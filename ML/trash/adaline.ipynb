{
 "cells": [
  {
   "cell_type": "code",
   "execution_count": 2,
   "metadata": {},
   "outputs": [
    {
     "name": "stdout",
     "output_type": "stream",
     "text": [
      "Adaline Learning for AND,OR,XOR gate\n"
     ]
    }
   ],
   "source": [
    "print(\"Adaline Learning for AND,OR,XOR gate\")"
   ]
  },
  {
   "cell_type": "code",
   "execution_count": 3,
   "metadata": {},
   "outputs": [],
   "source": [
    "import numpy as np\n",
    "def perceptron(inpt,t): \n",
    "    Error=100                  #Initial Non-zero error\n",
    "    a=0.1                      #Taking learning rate as 0.1\n",
    "    inpt=np.array(inpt)   \n",
    "    t=np.array(t)\n",
    "    W=np.random.rand(3)        #Generating random weights\n",
    "    itr1=0                     #creating bound parameter for number of iterations\n",
    "    while Error!=0:\n",
    "        itr=0\n",
    "        Error=0\n",
    "        for x in inpt:\n",
    "            O=W*(x)\n",
    "            O=np.sum(O)\n",
    "            dW=a*(t[itr]-O)*x\n",
    "            Error+=np.sum(np.square(t[itr]-O))                #calculating error\n",
    "            W=W+dW                                            #updating weight using stochastic method\n",
    "            itr+=1\n",
    "        itr1+=1\n",
    "        if(itr1==100000):\n",
    "            break\n",
    "    print(W)\n",
    "    print(Error)\n",
    "        \n",
    "            \n",
    "    "
   ]
  },
  {
   "cell_type": "code",
   "execution_count": 8,
   "metadata": {},
   "outputs": [
    {
     "name": "stdout",
     "output_type": "stream",
     "text": [
      "[0.27777778 0.5        0.47222222]\n",
      "0.308641975308642\n"
     ]
    }
   ],
   "source": [
    "#Adaline learning for OR gate\n",
    "inpt=[[1,0,0],[1,0,1],[1,1,1],[1,1,0]]\n",
    "t=[0,1,1,1]\n",
    "perceptron(inpt,t)"
   ]
  },
  {
   "cell_type": "code",
   "execution_count": 9,
   "metadata": {},
   "outputs": [
    {
     "name": "stdout",
     "output_type": "stream",
     "text": [
      "[-0.27777778  0.5         0.52777778]\n",
      "0.30864197530864196\n"
     ]
    }
   ],
   "source": [
    "#Adaline Learning  for AND gate\n",
    "inpt=[[1,0,0],[1,0,1],[1,1,1],[1,1,0]]\n",
    "t=[0,0,1,0]\n",
    "perceptron(inpt,t)"
   ]
  },
  {
   "cell_type": "code",
   "execution_count": 10,
   "metadata": {},
   "outputs": [
    {
     "name": "stdout",
     "output_type": "stream",
     "text": [
      "[ 5.55555556e-01  3.33066907e-16 -5.55555556e-02]\n",
      "1.2345679012345678\n"
     ]
    }
   ],
   "source": [
    "#Adaline Learning for XOR gate\n",
    "inpt=[[1,0,0],[1,0,1],[1,1,1],[1,1,0]]\n",
    "t=[0,1,0,1]\n",
    "perceptron(inpt,t)"
   ]
  },
  {
   "cell_type": "code",
   "execution_count": null,
   "metadata": {},
   "outputs": [],
   "source": []
  }
 ],
 "metadata": {
  "kernelspec": {
   "display_name": "Python 3 (ipykernel)",
   "language": "python",
   "name": "python3"
  },
  "language_info": {
   "codemirror_mode": {
    "name": "ipython",
    "version": 3
   },
   "file_extension": ".py",
   "mimetype": "text/x-python",
   "name": "python",
   "nbconvert_exporter": "python",
   "pygments_lexer": "ipython3",
   "version": "3.10.1"
  },
  "vscode": {
   "interpreter": {
    "hash": "7e1998ff7f8aa20ada591c520b972326324e5ea05489af9e422744c7c09f6dad"
   }
  }
 },
 "nbformat": 4,
 "nbformat_minor": 4
}
