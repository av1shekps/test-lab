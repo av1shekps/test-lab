{
 "cells": [
  {
   "cell_type": "code",
   "execution_count": 68,
   "id": "1ce5d466-ccde-4a19-9cf5-eedce834a2e4",
   "metadata": {},
   "outputs": [],
   "source": [
    "import pandas as pd\n",
    "import numpy as np\n",
    "from sklearn.model_selection import train_test_split\n",
    "from keras.models import Sequential\n",
    "from keras.layers import Dense\n",
    "from keras.layers import Dropout\n",
    "from keras.layers import Flatten\n",
    "from keras.layers.convolutional import Conv2D\n",
    "from keras.layers.convolutional import MaxPooling2D"
   ]
  },
  {
   "cell_type": "code",
   "execution_count": 69,
   "id": "e63c847e-1535-4297-9fb2-d1aadb8b1a5d",
   "metadata": {},
   "outputs": [],
   "source": [
    "data=pd.read_csv('mnist_train.csv')"
   ]
  },
  {
   "cell_type": "code",
   "execution_count": 70,
   "id": "ed74ddba-8bf3-4489-8752-dc3af5cecc88",
   "metadata": {},
   "outputs": [
    {
     "data": {
      "text/html": [
       "<div>\n",
       "<style scoped>\n",
       "    .dataframe tbody tr th:only-of-type {\n",
       "        vertical-align: middle;\n",
       "    }\n",
       "\n",
       "    .dataframe tbody tr th {\n",
       "        vertical-align: top;\n",
       "    }\n",
       "\n",
       "    .dataframe thead th {\n",
       "        text-align: right;\n",
       "    }\n",
       "</style>\n",
       "<table border=\"1\" class=\"dataframe\">\n",
       "  <thead>\n",
       "    <tr style=\"text-align: right;\">\n",
       "      <th></th>\n",
       "      <th>label</th>\n",
       "      <th>1x1</th>\n",
       "      <th>1x2</th>\n",
       "      <th>1x3</th>\n",
       "      <th>1x4</th>\n",
       "      <th>1x5</th>\n",
       "      <th>1x6</th>\n",
       "      <th>1x7</th>\n",
       "      <th>1x8</th>\n",
       "      <th>1x9</th>\n",
       "      <th>...</th>\n",
       "      <th>28x19</th>\n",
       "      <th>28x20</th>\n",
       "      <th>28x21</th>\n",
       "      <th>28x22</th>\n",
       "      <th>28x23</th>\n",
       "      <th>28x24</th>\n",
       "      <th>28x25</th>\n",
       "      <th>28x26</th>\n",
       "      <th>28x27</th>\n",
       "      <th>28x28</th>\n",
       "    </tr>\n",
       "  </thead>\n",
       "  <tbody>\n",
       "    <tr>\n",
       "      <th>0</th>\n",
       "      <td>5</td>\n",
       "      <td>0</td>\n",
       "      <td>0</td>\n",
       "      <td>0</td>\n",
       "      <td>0</td>\n",
       "      <td>0</td>\n",
       "      <td>0</td>\n",
       "      <td>0</td>\n",
       "      <td>0</td>\n",
       "      <td>0</td>\n",
       "      <td>...</td>\n",
       "      <td>0</td>\n",
       "      <td>0</td>\n",
       "      <td>0</td>\n",
       "      <td>0</td>\n",
       "      <td>0</td>\n",
       "      <td>0</td>\n",
       "      <td>0</td>\n",
       "      <td>0</td>\n",
       "      <td>0</td>\n",
       "      <td>0</td>\n",
       "    </tr>\n",
       "    <tr>\n",
       "      <th>1</th>\n",
       "      <td>0</td>\n",
       "      <td>0</td>\n",
       "      <td>0</td>\n",
       "      <td>0</td>\n",
       "      <td>0</td>\n",
       "      <td>0</td>\n",
       "      <td>0</td>\n",
       "      <td>0</td>\n",
       "      <td>0</td>\n",
       "      <td>0</td>\n",
       "      <td>...</td>\n",
       "      <td>0</td>\n",
       "      <td>0</td>\n",
       "      <td>0</td>\n",
       "      <td>0</td>\n",
       "      <td>0</td>\n",
       "      <td>0</td>\n",
       "      <td>0</td>\n",
       "      <td>0</td>\n",
       "      <td>0</td>\n",
       "      <td>0</td>\n",
       "    </tr>\n",
       "    <tr>\n",
       "      <th>2</th>\n",
       "      <td>4</td>\n",
       "      <td>0</td>\n",
       "      <td>0</td>\n",
       "      <td>0</td>\n",
       "      <td>0</td>\n",
       "      <td>0</td>\n",
       "      <td>0</td>\n",
       "      <td>0</td>\n",
       "      <td>0</td>\n",
       "      <td>0</td>\n",
       "      <td>...</td>\n",
       "      <td>0</td>\n",
       "      <td>0</td>\n",
       "      <td>0</td>\n",
       "      <td>0</td>\n",
       "      <td>0</td>\n",
       "      <td>0</td>\n",
       "      <td>0</td>\n",
       "      <td>0</td>\n",
       "      <td>0</td>\n",
       "      <td>0</td>\n",
       "    </tr>\n",
       "    <tr>\n",
       "      <th>3</th>\n",
       "      <td>1</td>\n",
       "      <td>0</td>\n",
       "      <td>0</td>\n",
       "      <td>0</td>\n",
       "      <td>0</td>\n",
       "      <td>0</td>\n",
       "      <td>0</td>\n",
       "      <td>0</td>\n",
       "      <td>0</td>\n",
       "      <td>0</td>\n",
       "      <td>...</td>\n",
       "      <td>0</td>\n",
       "      <td>0</td>\n",
       "      <td>0</td>\n",
       "      <td>0</td>\n",
       "      <td>0</td>\n",
       "      <td>0</td>\n",
       "      <td>0</td>\n",
       "      <td>0</td>\n",
       "      <td>0</td>\n",
       "      <td>0</td>\n",
       "    </tr>\n",
       "    <tr>\n",
       "      <th>4</th>\n",
       "      <td>9</td>\n",
       "      <td>0</td>\n",
       "      <td>0</td>\n",
       "      <td>0</td>\n",
       "      <td>0</td>\n",
       "      <td>0</td>\n",
       "      <td>0</td>\n",
       "      <td>0</td>\n",
       "      <td>0</td>\n",
       "      <td>0</td>\n",
       "      <td>...</td>\n",
       "      <td>0</td>\n",
       "      <td>0</td>\n",
       "      <td>0</td>\n",
       "      <td>0</td>\n",
       "      <td>0</td>\n",
       "      <td>0</td>\n",
       "      <td>0</td>\n",
       "      <td>0</td>\n",
       "      <td>0</td>\n",
       "      <td>0</td>\n",
       "    </tr>\n",
       "    <tr>\n",
       "      <th>...</th>\n",
       "      <td>...</td>\n",
       "      <td>...</td>\n",
       "      <td>...</td>\n",
       "      <td>...</td>\n",
       "      <td>...</td>\n",
       "      <td>...</td>\n",
       "      <td>...</td>\n",
       "      <td>...</td>\n",
       "      <td>...</td>\n",
       "      <td>...</td>\n",
       "      <td>...</td>\n",
       "      <td>...</td>\n",
       "      <td>...</td>\n",
       "      <td>...</td>\n",
       "      <td>...</td>\n",
       "      <td>...</td>\n",
       "      <td>...</td>\n",
       "      <td>...</td>\n",
       "      <td>...</td>\n",
       "      <td>...</td>\n",
       "      <td>...</td>\n",
       "    </tr>\n",
       "    <tr>\n",
       "      <th>59995</th>\n",
       "      <td>8</td>\n",
       "      <td>0</td>\n",
       "      <td>0</td>\n",
       "      <td>0</td>\n",
       "      <td>0</td>\n",
       "      <td>0</td>\n",
       "      <td>0</td>\n",
       "      <td>0</td>\n",
       "      <td>0</td>\n",
       "      <td>0</td>\n",
       "      <td>...</td>\n",
       "      <td>0</td>\n",
       "      <td>0</td>\n",
       "      <td>0</td>\n",
       "      <td>0</td>\n",
       "      <td>0</td>\n",
       "      <td>0</td>\n",
       "      <td>0</td>\n",
       "      <td>0</td>\n",
       "      <td>0</td>\n",
       "      <td>0</td>\n",
       "    </tr>\n",
       "    <tr>\n",
       "      <th>59996</th>\n",
       "      <td>3</td>\n",
       "      <td>0</td>\n",
       "      <td>0</td>\n",
       "      <td>0</td>\n",
       "      <td>0</td>\n",
       "      <td>0</td>\n",
       "      <td>0</td>\n",
       "      <td>0</td>\n",
       "      <td>0</td>\n",
       "      <td>0</td>\n",
       "      <td>...</td>\n",
       "      <td>0</td>\n",
       "      <td>0</td>\n",
       "      <td>0</td>\n",
       "      <td>0</td>\n",
       "      <td>0</td>\n",
       "      <td>0</td>\n",
       "      <td>0</td>\n",
       "      <td>0</td>\n",
       "      <td>0</td>\n",
       "      <td>0</td>\n",
       "    </tr>\n",
       "    <tr>\n",
       "      <th>59997</th>\n",
       "      <td>5</td>\n",
       "      <td>0</td>\n",
       "      <td>0</td>\n",
       "      <td>0</td>\n",
       "      <td>0</td>\n",
       "      <td>0</td>\n",
       "      <td>0</td>\n",
       "      <td>0</td>\n",
       "      <td>0</td>\n",
       "      <td>0</td>\n",
       "      <td>...</td>\n",
       "      <td>0</td>\n",
       "      <td>0</td>\n",
       "      <td>0</td>\n",
       "      <td>0</td>\n",
       "      <td>0</td>\n",
       "      <td>0</td>\n",
       "      <td>0</td>\n",
       "      <td>0</td>\n",
       "      <td>0</td>\n",
       "      <td>0</td>\n",
       "    </tr>\n",
       "    <tr>\n",
       "      <th>59998</th>\n",
       "      <td>6</td>\n",
       "      <td>0</td>\n",
       "      <td>0</td>\n",
       "      <td>0</td>\n",
       "      <td>0</td>\n",
       "      <td>0</td>\n",
       "      <td>0</td>\n",
       "      <td>0</td>\n",
       "      <td>0</td>\n",
       "      <td>0</td>\n",
       "      <td>...</td>\n",
       "      <td>0</td>\n",
       "      <td>0</td>\n",
       "      <td>0</td>\n",
       "      <td>0</td>\n",
       "      <td>0</td>\n",
       "      <td>0</td>\n",
       "      <td>0</td>\n",
       "      <td>0</td>\n",
       "      <td>0</td>\n",
       "      <td>0</td>\n",
       "    </tr>\n",
       "    <tr>\n",
       "      <th>59999</th>\n",
       "      <td>8</td>\n",
       "      <td>0</td>\n",
       "      <td>0</td>\n",
       "      <td>0</td>\n",
       "      <td>0</td>\n",
       "      <td>0</td>\n",
       "      <td>0</td>\n",
       "      <td>0</td>\n",
       "      <td>0</td>\n",
       "      <td>0</td>\n",
       "      <td>...</td>\n",
       "      <td>0</td>\n",
       "      <td>0</td>\n",
       "      <td>0</td>\n",
       "      <td>0</td>\n",
       "      <td>0</td>\n",
       "      <td>0</td>\n",
       "      <td>0</td>\n",
       "      <td>0</td>\n",
       "      <td>0</td>\n",
       "      <td>0</td>\n",
       "    </tr>\n",
       "  </tbody>\n",
       "</table>\n",
       "<p>60000 rows × 785 columns</p>\n",
       "</div>"
      ],
      "text/plain": [
       "       label  1x1  1x2  1x3  1x4  1x5  1x6  1x7  1x8  1x9  ...  28x19  28x20  \\\n",
       "0          5    0    0    0    0    0    0    0    0    0  ...      0      0   \n",
       "1          0    0    0    0    0    0    0    0    0    0  ...      0      0   \n",
       "2          4    0    0    0    0    0    0    0    0    0  ...      0      0   \n",
       "3          1    0    0    0    0    0    0    0    0    0  ...      0      0   \n",
       "4          9    0    0    0    0    0    0    0    0    0  ...      0      0   \n",
       "...      ...  ...  ...  ...  ...  ...  ...  ...  ...  ...  ...    ...    ...   \n",
       "59995      8    0    0    0    0    0    0    0    0    0  ...      0      0   \n",
       "59996      3    0    0    0    0    0    0    0    0    0  ...      0      0   \n",
       "59997      5    0    0    0    0    0    0    0    0    0  ...      0      0   \n",
       "59998      6    0    0    0    0    0    0    0    0    0  ...      0      0   \n",
       "59999      8    0    0    0    0    0    0    0    0    0  ...      0      0   \n",
       "\n",
       "       28x21  28x22  28x23  28x24  28x25  28x26  28x27  28x28  \n",
       "0          0      0      0      0      0      0      0      0  \n",
       "1          0      0      0      0      0      0      0      0  \n",
       "2          0      0      0      0      0      0      0      0  \n",
       "3          0      0      0      0      0      0      0      0  \n",
       "4          0      0      0      0      0      0      0      0  \n",
       "...      ...    ...    ...    ...    ...    ...    ...    ...  \n",
       "59995      0      0      0      0      0      0      0      0  \n",
       "59996      0      0      0      0      0      0      0      0  \n",
       "59997      0      0      0      0      0      0      0      0  \n",
       "59998      0      0      0      0      0      0      0      0  \n",
       "59999      0      0      0      0      0      0      0      0  \n",
       "\n",
       "[60000 rows x 785 columns]"
      ]
     },
     "execution_count": 70,
     "metadata": {},
     "output_type": "execute_result"
    }
   ],
   "source": [
    "data"
   ]
  },
  {
   "cell_type": "code",
   "execution_count": 71,
   "id": "8cce28c3-fada-4354-9245-e512be7ab70a",
   "metadata": {},
   "outputs": [],
   "source": [
    "X=np.array(data.iloc[:,1:])"
   ]
  },
  {
   "cell_type": "code",
   "execution_count": 72,
   "id": "59dd8c62-43ea-4ae4-8014-03a6914a9176",
   "metadata": {},
   "outputs": [
    {
     "data": {
      "text/plain": [
       "(60000, 784)"
      ]
     },
     "execution_count": 72,
     "metadata": {},
     "output_type": "execute_result"
    }
   ],
   "source": [
    "X.shape"
   ]
  },
  {
   "cell_type": "code",
   "execution_count": 73,
   "id": "43b54e16-dc0a-421f-9eee-860e993d129f",
   "metadata": {},
   "outputs": [],
   "source": [
    "Y=np.array(data.iloc[:,:1])"
   ]
  },
  {
   "cell_type": "code",
   "execution_count": 74,
   "id": "5ee16f33-2b90-4b0b-bb5a-6fad3bd34326",
   "metadata": {},
   "outputs": [
    {
     "data": {
      "text/plain": [
       "(60000, 1)"
      ]
     },
     "execution_count": 74,
     "metadata": {},
     "output_type": "execute_result"
    }
   ],
   "source": [
    "Y.shape"
   ]
  },
  {
   "cell_type": "code",
   "execution_count": 75,
   "id": "fff1de6c-7524-4d8d-a2c1-802ec849d889",
   "metadata": {},
   "outputs": [],
   "source": [
    "X=X/255\n",
    "X=X.reshape(X.shape[0],28,28,1)"
   ]
  },
  {
   "cell_type": "code",
   "execution_count": 76,
   "id": "17660ec7-ddfd-45b3-a946-3eaeadd7e79a",
   "metadata": {},
   "outputs": [],
   "source": [
    "y=[]\n",
    "for i in range(Y.shape[0]):\n",
    "    tmp=[0,0,0,0,0,0,0,0,0,0]\n",
    "    tmp[Y[i][0]]=1\n",
    "    y.append(tmp)\n",
    "Y=np.array(y)"
   ]
  },
  {
   "cell_type": "code",
   "execution_count": 77,
   "id": "1d9255ce-77ca-4f3b-9db5-d097d26d7bae",
   "metadata": {},
   "outputs": [],
   "source": [
    "X_train,X_test,Y_train,Y_test=train_test_split(X,Y,test_size=0.15,random_state=42)"
   ]
  },
  {
   "cell_type": "code",
   "execution_count": 78,
   "id": "4dff3312-fbf6-40a5-a58e-c8a23c40bf75",
   "metadata": {},
   "outputs": [],
   "source": [
    "X_val,X_test,Y_val,Y_test=train_test_split(X_test,Y_test,test_size=0.9,random_state=42)"
   ]
  },
  {
   "cell_type": "code",
   "execution_count": 79,
   "id": "98d202e7-7654-4a72-b352-aea80fc2b3a3",
   "metadata": {},
   "outputs": [],
   "source": [
    "def defineModel(numClasses):\n",
    "    model=Sequential()\n",
    "    model.add(Conv2D(32,(5,5),input_shape=(28,28,1),activation='relu'))\n",
    "    model.add(MaxPooling2D(pool_size=(2,2)))\n",
    "    model.add(Dropout(0.2))\n",
    "    model.add(Flatten())\n",
    "    model.add(Dense(128,activation='relu'))\n",
    "    model.add(Dense(numClasses,activation='softmax'))\n",
    "    \n",
    "    model.compile(loss='categorical_crossentropy',optimizer='adam',metrics=['accuracy'])\n",
    "    return model"
   ]
  },
  {
   "cell_type": "code",
   "execution_count": 80,
   "id": "4b71fef6-f0cc-48e0-a8af-df56b17fbabc",
   "metadata": {},
   "outputs": [],
   "source": [
    "model=defineModel(Y_test.shape[1])"
   ]
  },
  {
   "cell_type": "code",
   "execution_count": 81,
   "id": "69611b5d-4c90-4d76-bea6-d787b33308c6",
   "metadata": {},
   "outputs": [
    {
     "name": "stdout",
     "output_type": "stream",
     "text": [
      "Epoch 1/10\n",
      "255/255 - 14s - loss: 0.2676 - accuracy: 0.9244 - val_loss: 0.0985 - val_accuracy: 0.9744 - 14s/epoch - 56ms/step\n",
      "Epoch 2/10\n",
      "255/255 - 17s - loss: 0.0821 - accuracy: 0.9759 - val_loss: 0.0675 - val_accuracy: 0.9822 - 17s/epoch - 67ms/step\n",
      "Epoch 3/10\n",
      "255/255 - 22s - loss: 0.0589 - accuracy: 0.9817 - val_loss: 0.0505 - val_accuracy: 0.9856 - 22s/epoch - 85ms/step\n",
      "Epoch 4/10\n",
      "255/255 - 21s - loss: 0.0428 - accuracy: 0.9870 - val_loss: 0.0492 - val_accuracy: 0.9878 - 21s/epoch - 82ms/step\n",
      "Epoch 5/10\n",
      "255/255 - 23s - loss: 0.0355 - accuracy: 0.9889 - val_loss: 0.0373 - val_accuracy: 0.9878 - 23s/epoch - 89ms/step\n",
      "Epoch 6/10\n",
      "255/255 - 21s - loss: 0.0302 - accuracy: 0.9901 - val_loss: 0.0379 - val_accuracy: 0.9922 - 21s/epoch - 82ms/step\n",
      "Epoch 7/10\n",
      "255/255 - 18s - loss: 0.0240 - accuracy: 0.9922 - val_loss: 0.0457 - val_accuracy: 0.9867 - 18s/epoch - 70ms/step\n",
      "Epoch 8/10\n",
      "255/255 - 18s - loss: 0.0205 - accuracy: 0.9933 - val_loss: 0.0529 - val_accuracy: 0.9867 - 18s/epoch - 70ms/step\n",
      "Epoch 9/10\n",
      "255/255 - 17s - loss: 0.0168 - accuracy: 0.9947 - val_loss: 0.0366 - val_accuracy: 0.9922 - 17s/epoch - 68ms/step\n",
      "Epoch 10/10\n",
      "255/255 - 19s - loss: 0.0163 - accuracy: 0.9948 - val_loss: 0.0415 - val_accuracy: 0.9867 - 19s/epoch - 76ms/step\n"
     ]
    }
   ],
   "source": [
    "history=model.fit(X_train,Y_train,validation_data=(X_val,Y_val),epochs=10,batch_size=200,verbose=2)"
   ]
  },
  {
   "cell_type": "code",
   "execution_count": 82,
   "id": "6a960695-34eb-40e5-9b28-74b9ca1a28c3",
   "metadata": {},
   "outputs": [
    {
     "name": "stdout",
     "output_type": "stream",
     "text": [
      "Input Shape (None, 28, 28, 1)\n",
      "Output Shape (None, 24, 24, 32)\n",
      "Input Shape (None, 24, 24, 32)\n",
      "Output Shape (None, 12, 12, 32)\n",
      "Input Shape (None, 12, 12, 32)\n",
      "Output Shape (None, 12, 12, 32)\n",
      "Input Shape (None, 12, 12, 32)\n",
      "Output Shape (None, 4608)\n",
      "Input Shape (None, 4608)\n",
      "Output Shape (None, 128)\n",
      "Input Shape (None, 128)\n",
      "Output Shape (None, 10)\n"
     ]
    }
   ],
   "source": [
    "for layers in model.layers:\n",
    "    print(\"Input Shape\",layers.input_shape)\n",
    "    print(\"Output Shape\",layers.output_shape)"
   ]
  },
  {
   "cell_type": "code",
   "execution_count": 83,
   "id": "cd1347e1-3e34-4782-afbf-6672a4fc0e1a",
   "metadata": {},
   "outputs": [
    {
     "name": "stdout",
     "output_type": "stream",
     "text": [
      "41/41 [==============================] - 1s 17ms/step - loss: 0.0377 - accuracy: 0.9885\n",
      "Test Accuracy is : 0.9885185360908508\n",
      "Test Loss is : 0.037671059370040894\n"
     ]
    }
   ],
   "source": [
    "results=model.evaluate(X_test,Y_test,batch_size=200)\n",
    "print(\"Test Accuracy is : \"+str(results[1]))\n",
    "print(\"Test Loss is : \"+str(results[0]))"
   ]
  },
  {
   "cell_type": "code",
   "execution_count": 84,
   "id": "e2b362b6-e154-473a-977e-b46ac3d5b3b2",
   "metadata": {},
   "outputs": [],
   "source": [
    "\n",
    "arr=np.random.rand(12)"
   ]
  },
  {
   "cell_type": "code",
   "execution_count": 85,
   "id": "87739cc1-a319-48a7-9f00-44c57b514843",
   "metadata": {},
   "outputs": [
    {
     "data": {
      "text/plain": [
       "array([0.72042952, 0.86571345, 0.92817754, 0.58400891, 0.33888855,\n",
       "       0.62724277, 0.2466184 , 0.35987151, 0.85385043, 0.34490316,\n",
       "       0.70249031, 0.2281688 ])"
      ]
     },
     "execution_count": 85,
     "metadata": {},
     "output_type": "execute_result"
    }
   ],
   "source": [
    "arr"
   ]
  },
  {
   "cell_type": "code",
   "execution_count": 86,
   "id": "76c9dfb8-eba1-47d4-9c7a-57c19b0a4401",
   "metadata": {},
   "outputs": [],
   "source": [
    "s=\"shantanu\""
   ]
  },
  {
   "cell_type": "code",
   "execution_count": 87,
   "id": "9612a4df-c667-447f-a3eb-110d33c3f544",
   "metadata": {},
   "outputs": [],
   "source": [
    "s=s[1:4]+s[2:8]"
   ]
  },
  {
   "cell_type": "code",
   "execution_count": 88,
   "id": "c569169e-8ff0-4c07-bedf-0950b4e8538b",
   "metadata": {},
   "outputs": [
    {
     "data": {
      "text/plain": [
       "'hanantanu'"
      ]
     },
     "execution_count": 88,
     "metadata": {},
     "output_type": "execute_result"
    }
   ],
   "source": [
    "s"
   ]
  },
  {
   "cell_type": "code",
   "execution_count": null,
   "id": "2901cbec-3655-4fe7-a617-372fc77906fc",
   "metadata": {},
   "outputs": [],
   "source": []
  }
 ],
 "metadata": {
  "kernelspec": {
   "display_name": "Python 3.10.4 64-bit",
   "language": "python",
   "name": "python3"
  },
  "language_info": {
   "codemirror_mode": {
    "name": "ipython",
    "version": 3
   },
   "file_extension": ".py",
   "mimetype": "text/x-python",
   "name": "python",
   "nbconvert_exporter": "python",
   "pygments_lexer": "ipython3",
   "version": "3.10.4"
  },
  "vscode": {
   "interpreter": {
    "hash": "e6f69bfd8770c6ef5341f3d7e9e093b8953f3ac54a69823aabf263e15f081764"
   }
  }
 },
 "nbformat": 4,
 "nbformat_minor": 5
}
