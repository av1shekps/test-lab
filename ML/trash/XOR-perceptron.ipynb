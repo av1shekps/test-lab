{
 "cells": [
  {
   "cell_type": "code",
   "execution_count": null,
   "metadata": {},
   "outputs": [],
   "source": [
    "print(\"Adaline Learning for AND,OR,XOR gate\")"
   ]
  },
  {
   "cell_type": "code",
   "execution_count": 1,
   "metadata": {},
   "outputs": [],
   "source": [
    "import numpy as np\n",
    "def perceptron(inpt,t): \n",
    "    Error=100                  #Initial Non-zero error\n",
    "    a=0.1                      #Taking learning rate as 0.1\n",
    "    inpt=np.array(inpt)   \n",
    "    t=np.array(t)\n",
    "    W=np.random.rand(3)        #Generating random weights\n",
    "    itr1=0                     #creating bound parameter for number of iterations\n",
    "    while Error!=0:\n",
    "        itr=0\n",
    "        Error=0\n",
    "        for x in inpt:\n",
    "            O=W*(x)\n",
    "            O=np.sum(O)\n",
    "            dW=a*(t[itr]-O)*x\n",
    "            Error+=np.sum(np.square(t[itr]-O))                #calculating error\n",
    "            W=W+dW                                            #updating weight using stochastic method\n",
    "            itr+=1\n",
    "        itr1+=1\n",
    "        if(itr1==100000):\n",
    "            break\n",
    "    print(W)\n",
    "    print(Error)\n",
    "        \n",
    "            \n",
    "    "
   ]
  },
  {
   "cell_type": "code",
   "execution_count": 2,
   "metadata": {},
   "outputs": [
    {
     "name": "stdout",
     "output_type": "stream",
     "text": [
      "[-0.44444444  1.          0.94444444]\n",
      "1.2345679012345683\n"
     ]
    }
   ],
   "source": [
    "#perceptron learning for OR gate\n",
    "inpt=[[1,0,0],[1,0,1],[1,1,1],[1,1,0]]\n",
    "t=[-1,1,1,1]\n",
    "perceptron(inpt,t)"
   ]
  },
  {
   "cell_type": "code",
   "execution_count": 3,
   "metadata": {},
   "outputs": [
    {
     "name": "stdout",
     "output_type": "stream",
     "text": [
      "[-1.55555556  1.          1.05555556]\n",
      "1.234567901234568\n"
     ]
    }
   ],
   "source": [
    "#Perceptron Learning  for AND gate\n",
    "inpt=[[1,0,0],[1,0,1],[1,1,1],[1,1,0]]\n",
    "t=[-1,-1,1,-1]\n",
    "perceptron(inpt,t)"
   ]
  },
  {
   "cell_type": "code",
   "execution_count": null,
   "metadata": {},
   "outputs": [],
   "source": [
    "#Perceptron Learning for XOR gate\n",
    "inpt=[[1,0,0],[1,0,1],[1,1,1],[1,1,0]]\n",
    "t=[-1,1,-1,1]\n",
    "perceptron(inpt,t)"
   ]
  },
  {
   "cell_type": "code",
   "execution_count": null,
   "metadata": {},
   "outputs": [],
   "source": []
  }
 ],
 "metadata": {
  "kernelspec": {
   "display_name": "Python 3.10.4 64-bit",
   "language": "python",
   "name": "python3"
  },
  "language_info": {
   "codemirror_mode": {
    "name": "ipython",
    "version": 3
   },
   "file_extension": ".py",
   "mimetype": "text/x-python",
   "name": "python",
   "nbconvert_exporter": "python",
   "pygments_lexer": "ipython3",
   "version": "3.10.4"
  },
  "vscode": {
   "interpreter": {
    "hash": "e6f69bfd8770c6ef5341f3d7e9e093b8953f3ac54a69823aabf263e15f081764"
   }
  }
 },
 "nbformat": 4,
 "nbformat_minor": 4
}
