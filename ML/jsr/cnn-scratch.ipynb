{
  "cells": [
    {
      "cell_type": "markdown",
      "id": "SzEbqP4WKQ0j",
      "metadata": {
        "id": "SzEbqP4WKQ0j"
      },
      "source": [
        "**Q) Design and implement a feed forward neural network using backpropagation algorithm to to solve hand written character recognition problem for A to Z and 0 to 9 letters and digits respectively.**"
      ]
    },
    {
      "cell_type": "markdown",
      "id": "nz8JoSLCKTya",
      "metadata": {
        "id": "nz8JoSLCKTya"
      },
      "source": [
        "**Character Recognition**"
      ]
    },
    {
      "cell_type": "code",
      "execution_count": null,
      "id": "fc5f6250",
      "metadata": {
        "id": "fc5f6250"
      },
      "outputs": [],
      "source": [
        "import numpy as np\n",
        "import pandas as pd\n",
        "from sklearn.model_selection import train_test_split"
      ]
    },
    {
      "cell_type": "code",
      "execution_count": null,
      "id": "bfa9f40b",
      "metadata": {
        "id": "bfa9f40b"
      },
      "outputs": [],
      "source": [
        "df = pd.read_csv('A_Z Handwritten Data.csv')"
      ]
    },
    {
      "cell_type": "code",
      "execution_count": null,
      "id": "b169d35b",
      "metadata": {
        "id": "b169d35b",
        "outputId": "b280aa34-9aa2-4f48-b2a0-a606ddd120f1"
      },
      "outputs": [
        {
          "data": {
            "text/plain": [
              "<bound method NDFrame.head of          0  0.1  0.2  0.3  0.4  0.5  0.6  0.7  0.8  0.9  ...  0.639  0.640  \\\n",
              "0        0    0    0    0    0    0    0    0    0    0  ...      0      0   \n",
              "1        0    0    0    0    0    0    0    0    0    0  ...      0      0   \n",
              "2        0    0    0    0    0    0    0    0    0    0  ...      0      0   \n",
              "3        0    0    0    0    0    0    0    0    0    0  ...      0      0   \n",
              "4        0    0    0    0    0    0    0    0    0    0  ...      0      0   \n",
              "...     ..  ...  ...  ...  ...  ...  ...  ...  ...  ...  ...    ...    ...   \n",
              "372445  25    0    0    0    0    0    0    0    0    0  ...      0      0   \n",
              "372446  25    0    0    0    0    0    0    0    0    0  ...      0      0   \n",
              "372447  25    0    0    0    0    0    0    0    0    0  ...      0      0   \n",
              "372448  25    0    0    0    0    0    0    0    0    0  ...      0      0   \n",
              "372449  25    0    0    0    0    0    0    0    0    0  ...      0      0   \n",
              "\n",
              "        0.641  0.642  0.643  0.644  0.645  0.646  0.647  0.648  \n",
              "0           0      0      0      0      0      0      0      0  \n",
              "1           0      0      0      0      0      0      0      0  \n",
              "2           0      0      0      0      0      0      0      0  \n",
              "3           0      0      0      0      0      0      0      0  \n",
              "4           0      0      0      0      0      0      0      0  \n",
              "...       ...    ...    ...    ...    ...    ...    ...    ...  \n",
              "372445      0      0      0      0      0      0      0      0  \n",
              "372446      0      0      0      0      0      0      0      0  \n",
              "372447      0      0      0      0      0      0      0      0  \n",
              "372448      0      0      0      0      0      0      0      0  \n",
              "372449      0      0      0      0      0      0      0      0  \n",
              "\n",
              "[372450 rows x 785 columns]>"
            ]
          },
          "execution_count": 3,
          "metadata": {},
          "output_type": "execute_result"
        }
      ],
      "source": [
        "df.head"
      ]
    },
    {
      "cell_type": "code",
      "execution_count": null,
      "id": "0e5bb901",
      "metadata": {
        "id": "0e5bb901",
        "outputId": "b1b7db22-430b-4f2d-ac26-e2613afb9fb8"
      },
      "outputs": [
        {
          "name": "stdout",
          "output_type": "stream",
          "text": [
            "<class 'numpy.ndarray'>\n",
            "(372450, 1)\n",
            "<class 'numpy.ndarray'>\n",
            "(372450, 784)\n"
          ]
        }
      ],
      "source": [
        "y = df.iloc[:,0]\n",
        "y = y.to_numpy().reshape(-1,1)\n",
        "print(type(y))\n",
        "print(y.shape)\n",
        "x = df.iloc[:,1:]\n",
        "x = x.to_numpy()\n",
        "print(type(x))\n",
        "print(x.shape)"
      ]
    },
    {
      "cell_type": "code",
      "execution_count": null,
      "id": "a084885c",
      "metadata": {
        "id": "a084885c"
      },
      "outputs": [],
      "source": [
        "def oneHotEncoding(y):\n",
        "    l = []\n",
        "    for row in range(y.shape[0]):\n",
        "        enc = []\n",
        "        for i in range(26):\n",
        "            enc.append(0)\n",
        "        num = y[row][0]\n",
        "        enc[num] = 1\n",
        "        l.append(enc)\n",
        "    \n",
        "    return np.array(l)"
      ]
    },
    {
      "cell_type": "code",
      "execution_count": null,
      "id": "6406fd2b",
      "metadata": {
        "id": "6406fd2b",
        "outputId": "194f7ba7-9f85-4c74-8cfb-2ded0eb291ed"
      },
      "outputs": [
        {
          "name": "stdout",
          "output_type": "stream",
          "text": [
            "<class 'numpy.ndarray'>\n",
            "(372450, 26)\n"
          ]
        }
      ],
      "source": [
        "y = oneHotEncoding(y)\n",
        "print(type(y))\n",
        "print(y.shape)"
      ]
    },
    {
      "cell_type": "code",
      "execution_count": null,
      "id": "1073e9f7",
      "metadata": {
        "id": "1073e9f7",
        "outputId": "1a6bec71-92ad-4c68-ad7b-d2128c05cf0d"
      },
      "outputs": [
        {
          "name": "stdout",
          "output_type": "stream",
          "text": [
            "X_train size:  (312858, 784)\n",
            "y_train size:  (312858, 26)\n",
            "X_test size:  (59592, 784)\n",
            "y_test size:  (59592, 26)\n"
          ]
        }
      ],
      "source": [
        "x_train, x_test, y_train, y_test = train_test_split(x, y, test_size=0.16, random_state=37)\n",
        "x_train = x_train.astype('float64')\n",
        "x_test = x_test.astype('float64')\n",
        "y_train = y_train.astype('float64')\n",
        "y_test = y_test.astype('float64')\n",
        "\n",
        "x_train = x_train/255\n",
        "x_test = x_test/255\n",
        "\n",
        "print(\"X_train size: \", x_train.shape)\n",
        "print(\"y_train size: \", y_train.shape)\n",
        "print(\"X_test size: \", x_test.shape)\n",
        "print(\"y_test size: \", y_test.shape)"
      ]
    },
    {
      "cell_type": "code",
      "execution_count": null,
      "id": "5baf3321",
      "metadata": {
        "id": "5baf3321"
      },
      "outputs": [],
      "source": [
        "#Activation Functions\n",
        "def sigmoid(x):\n",
        "    return 1/(1 + np.exp(-x))\n",
        "\n",
        "def softMax(x):\n",
        "    exps = np.exp(x - x.max())\n",
        "    return exps/np.sum(exps, axis = 0)"
      ]
    },
    {
      "cell_type": "code",
      "execution_count": null,
      "id": "e2abd6cb",
      "metadata": {
        "id": "e2abd6cb"
      },
      "outputs": [],
      "source": [
        "#Differentials\n",
        "def dif_sigmoid(x):\n",
        "    y = sigmoid(x)\n",
        "    return y*(1-y)\n",
        "\n",
        "def dif_softMax(x):\n",
        "    y = softMax(x)\n",
        "    return y*(1-y)"
      ]
    },
    {
      "cell_type": "code",
      "execution_count": null,
      "id": "81213f94",
      "metadata": {
        "id": "81213f94"
      },
      "outputs": [],
      "source": [
        "def init_parameters(layer_sizes):\n",
        "    parameters = {}\n",
        "    for i in range(1, len(layer_sizes)):\n",
        "        parameters['W' + str(i)] = np.random.randn(layer_sizes[i], layer_sizes[i-1])*0.01\n",
        "        parameters['B' + str(i)] = np.random.randn(layer_sizes[i], 1)*0.01\n",
        "    \n",
        "    return parameters"
      ]
    },
    {
      "cell_type": "code",
      "execution_count": null,
      "id": "f7d75166",
      "metadata": {
        "id": "f7d75166"
      },
      "outputs": [],
      "source": [
        "def forward_propagation(X, parameters):\n",
        "    values = {}\n",
        "    layers = len(parameters)//2 + 1\n",
        "    values['A0'] = X\n",
        "    for i in range(1, layers):\n",
        "        values['Z' + str(i)] = np.dot(parameters['W' + str(i)], values['A' + str(i-1)]) + parameters['B' + str(i)]\n",
        "        if(i == layers - 1):\n",
        "            values['A' + str(i)] = softMax(values['Z' + str(i)])\n",
        "        else:\n",
        "            values['A' + str(i)] = sigmoid(values['Z' + str(i)])\n",
        "            \n",
        "    return values"
      ]
    },
    {
      "cell_type": "code",
      "execution_count": null,
      "id": "b0a2b40b",
      "metadata": {
        "id": "b0a2b40b"
      },
      "outputs": [],
      "source": [
        "def compute_cost(a2, y):\n",
        "    m = y.shape[1]\n",
        "    return -(1/m)*np.sum(y*np.log(a2))"
      ]
    },
    {
      "cell_type": "code",
      "execution_count": null,
      "id": "a7d2d12d",
      "metadata": {
        "id": "a7d2d12d"
      },
      "outputs": [],
      "source": [
        "def backward_propagation(y, parameters, values):\n",
        "    layers = len(parameters)//2\n",
        "    m = len(y)\n",
        "    grads = {}\n",
        "    for i in range(layers,0,-1):\n",
        "        if i == layers:\n",
        "            dZ = values['A' + str(i)] - y\n",
        "        else:\n",
        "            dZ = (np.dot(parameters['W' + str(i+1)].T, dZ))*dif_sigmoid(values['Z'+str(i)])\n",
        "        \n",
        "        grads['W' + str(i)] = (1/m)*np.dot(dZ, values['A' + str(i-1)].T)\n",
        "        grads['B' + str(i)] = (1/m)*np.sum(dZ, axis = 1, keepdims = True)\n",
        "        \n",
        "    return grads"
      ]
    },
    {
      "cell_type": "code",
      "execution_count": null,
      "id": "7da43fc1",
      "metadata": {
        "id": "7da43fc1"
      },
      "outputs": [],
      "source": [
        "def update_parameters(parameters, grads, alpha):\n",
        "    layers = len(parameters)//2\n",
        "    for i in range(1, layers+1):\n",
        "        parameters['W'+str(i)] = parameters['W'+str(i)] - alpha*grads['W'+str(i)]\n",
        "        parameters['B'+str(i)] = parameters['B'+str(i)] - alpha*grads['B'+str(i)]\n",
        "        \n",
        "    return parameters"
      ]
    },
    {
      "cell_type": "code",
      "execution_count": null,
      "id": "39600a85",
      "metadata": {
        "id": "39600a85"
      },
      "outputs": [],
      "source": [
        "def train_model(X, Y, layer_sizes, epochs, alpha):\n",
        "    parameters = init_parameters(layer_sizes)\n",
        "    for i in range(epochs):\n",
        "        values = forward_propagation(X.T, parameters)\n",
        "        cost = compute_cost(values['A' + str(len(parameters)//2)], Y.T)\n",
        "        print(\"After epoch \" + str(i+1) + \" cost =  \" + str(cost))\n",
        "        grads = backward_propagation(Y.T, parameters, values)\n",
        "        parameters = update_parameters(parameters, grads, alpha)\n",
        "    \n",
        "    return parameters"
      ]
    },
    {
      "cell_type": "code",
      "execution_count": null,
      "id": "e84a538d",
      "metadata": {
        "id": "e84a538d"
      },
      "outputs": [],
      "source": [
        "def predict(parameters, X):\n",
        "    values = forward_propagation(X.T, parameters)\n",
        "    return values['A' + str(len(values)//2)].T"
      ]
    },
    {
      "cell_type": "code",
      "execution_count": null,
      "id": "4ad790e4",
      "metadata": {
        "id": "4ad790e4",
        "outputId": "04ec9c61-1c37-481c-b232-4c2bb1d69fba"
      },
      "outputs": [
        {
          "name": "stdout",
          "output_type": "stream",
          "text": [
            "After epoch 1 cost =  3.2547424341532976\n",
            "After epoch 2 cost =  3.0497742764466325\n",
            "After epoch 3 cost =  2.981012421083142\n",
            "After epoch 4 cost =  2.9592787449475315\n",
            "After epoch 5 cost =  2.94873512334498\n",
            "After epoch 6 cost =  2.942451015260368\n",
            "After epoch 7 cost =  2.9382984538718846\n",
            "After epoch 8 cost =  2.935315172618956\n",
            "After epoch 9 cost =  2.933024696080624\n",
            "After epoch 10 cost =  2.931173894253088\n",
            "After epoch 11 cost =  2.9296184109614356\n",
            "After epoch 12 cost =  2.9282703452833476\n",
            "After epoch 13 cost =  2.927073037612833\n",
            "After epoch 14 cost =  2.925988202215939\n",
            "After epoch 15 cost =  2.9249889626192442\n"
          ]
        }
      ],
      "source": [
        "layer_sizes = [784, 256, 26] #input layer with 784 neurons, hidden layer with 256 neurons, output layer with 26 neurons\n",
        "epochs = 15\n",
        "alpha = 0.00001\n",
        "parameters = train_model(x_train, y_train, layer_sizes, epochs, alpha)"
      ]
    },
    {
      "cell_type": "code",
      "execution_count": null,
      "id": "7da1d92e",
      "metadata": {
        "id": "7da1d92e"
      },
      "outputs": [],
      "source": [
        "pred_y = predict(parameters, x_test)"
      ]
    },
    {
      "cell_type": "code",
      "execution_count": null,
      "id": "9df8a952",
      "metadata": {
        "id": "9df8a952",
        "outputId": "a26c89ad-50a8-4b0a-d6cf-b33ae3a7a8f1"
      },
      "outputs": [
        {
          "name": "stdout",
          "output_type": "stream",
          "text": [
            "9293\n",
            "0.1559437508390388\n"
          ]
        }
      ],
      "source": [
        "from sklearn.metrics import accuracy_score\n",
        "pred_y = np.argmax(pred_y, axis = 1)\n",
        "y_test = np.argmax(y_test, axis = 1)\n",
        "print(accuracy_score(y_test, pred_y, normalize = False)) #prints no. of correctly classified test data\n",
        "print(accuracy_score(y_test, pred_y)) #prints percentage of correctly classified test data"
      ]
    }
  ],
  "metadata": {
    "colab": {
      "provenance": []
    },
    "kernelspec": {
      "display_name": "Python 3 (ipykernel)",
      "language": "python",
      "name": "python3"
    },
    "language_info": {
      "codemirror_mode": {
        "name": "ipython",
        "version": 3
      },
      "file_extension": ".py",
      "mimetype": "text/x-python",
      "name": "python",
      "nbconvert_exporter": "python",
      "pygments_lexer": "ipython3",
      "version": "3.10.8"
    }
  },
  "nbformat": 4,
  "nbformat_minor": 5
}
