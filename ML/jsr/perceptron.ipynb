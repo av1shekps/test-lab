{
  "cells": [
    {
      "cell_type": "markdown",
      "metadata": {
        "id": "irHvgNEeR0xH"
      },
      "source": [
        "**Implement perceptron learning algorithm and attempt to solve two input i) AND gate ii) OR gate iii) EXOR gate problems**"
      ]
    },
    {
      "cell_type": "code",
      "execution_count": null,
      "metadata": {
        "id": "tkkG5RNeRuDt"
      },
      "outputs": [],
      "source": [
        "import numpy as np\n",
        "import pandas as pd"
      ]
    },
    {
      "cell_type": "markdown",
      "metadata": {
        "id": "Q1eo8-hBQ61A"
      },
      "source": [
        "Output = W0X0 + W1X1 + W2X2 = W*X_transpose \\\\\n",
        "Wi = weights associated with gate \\\\\n",
        "Xi = inputs acting as feature with X0 = 1"
      ]
    },
    {
      "cell_type": "code",
      "execution_count": null,
      "metadata": {
        "id": "gHYNzE8JqUhU"
      },
      "outputs": [],
      "source": [
        "def getOutput(weights, features):\n",
        "  output = np.dot(weights,features.transpose())\n",
        "  if output > 0:\n",
        "    return 1\n",
        "  else:\n",
        "    return -1"
      ]
    },
    {
      "cell_type": "markdown",
      "metadata": {
        "id": "LTlWCi_QSDCQ"
      },
      "source": [
        "Signum function will be used for classifying into +1 and -1 \\\\\n",
        "signum(x) is +1 if x > 0 and -1 otherwise"
      ]
    },
    {
      "cell_type": "code",
      "execution_count": null,
      "metadata": {
        "id": "rMF0fgMQuN9h"
      },
      "outputs": [],
      "source": [
        "def signum(output):\n",
        "  if output > 0:\n",
        "    return 1\n",
        "  else:\n",
        "    return -1"
      ]
    },
    {
      "cell_type": "markdown",
      "metadata": {
        "id": "Oy5CqXpjSnDi"
      },
      "source": [
        "Perceptron Training Algorithm:"
      ]
    },
    {
      "cell_type": "code",
      "execution_count": null,
      "metadata": {
        "id": "VQPhYE3kobeY"
      },
      "outputs": [],
      "source": [
        "def trainPerceptron(epochs, features, target, alpha):\n",
        "  weights = np.random.rand(features.shape[1])\n",
        "  for epoch in range(epochs):\n",
        "    for i in range(len(features)):\n",
        "      output = signum(np.dot(weights,features[i]))\n",
        "      weights += alpha *(target[i]-output)*features[i]\n",
        "  \n",
        "  return weights"
      ]
    },
    {
      "cell_type": "code",
      "execution_count": null,
      "metadata": {
        "colab": {
          "base_uri": "https://localhost:8080/"
        },
        "id": "C7OLr8Qjrsr8",
        "outputId": "6de44974-0476-469a-b5e0-bd6922e5fadb"
      },
      "outputs": [
        {
          "name": "stdout",
          "output_type": "stream",
          "text": [
            "Weights for AND GATE perceptron: \n",
            "[-0.38558888  0.56377281  0.40048347]\n",
            "Weights for OR GATE perceptron: \n",
            "[0.43666236 0.966712   0.85413258]\n"
          ]
        }
      ],
      "source": [
        "input = np.array([[1,-1,-1],[1,-1,1],[1,1,-1],[1,1,1]])\n",
        "targetAND = [-1,-1,-1,1] \n",
        "targetOR = [-1,1,1,1] \n",
        "\n",
        "#training perceptrons\n",
        "weights_AND = trainPerceptron(10, input, targetAND, 0.1)\n",
        "weights_OR = trainPerceptron(10, input, targetOR, 0.1)\n",
        "\n",
        "print(\"Weights for AND GATE perceptron: \")\n",
        "print(weights_AND)\n",
        "print(\"Weights for OR GATE perceptron: \")\n",
        "print(weights_OR)"
      ]
    },
    {
      "cell_type": "code",
      "execution_count": null,
      "metadata": {
        "colab": {
          "base_uri": "https://localhost:8080/"
        },
        "id": "r5atxSuruxFd",
        "outputId": "a4c4ce8b-d6dc-4d4d-c1c5-7c2a796ffd43"
      },
      "outputs": [
        {
          "name": "stdout",
          "output_type": "stream",
          "text": [
            "AND GATE perceptron\n",
            "X1 = -1 X2 = -1 Predicted Output = -1\n",
            "X1 = -1 X2 = 1 Predicted Output = -1\n",
            "X1 = 1 X2 = -1 Predicted Output = -1\n",
            "X1 = 1 X2 = 1 Predicted Output = 1\n"
          ]
        }
      ],
      "source": [
        "print('AND GATE perceptron')\n",
        "for i in range(len(input)):\n",
        "    prediction = signum(np.dot(weights_AND, input[i]))\n",
        "    print(\"X1 = \" + str(input[i][1]) + \" X2 = \" + str(input[i][2]) + \" Predicted Output = \" + str(prediction))"
      ]
    },
    {
      "cell_type": "code",
      "execution_count": null,
      "metadata": {
        "colab": {
          "base_uri": "https://localhost:8080/"
        },
        "id": "k2yGDLa8v96j",
        "outputId": "ccfa47ef-9500-4882-bced-476804c2ce2c"
      },
      "outputs": [
        {
          "name": "stdout",
          "output_type": "stream",
          "text": [
            "OR GATE perceptron\n",
            "X1 = -1 X2 = -1 Predicted Output = -1\n",
            "X1 = -1 X2 = 1 Predicted Output = 1\n",
            "X1 = 1 X2 = -1 Predicted Output = 1\n",
            "X1 = 1 X2 = 1 Predicted Output = 1\n"
          ]
        }
      ],
      "source": [
        "print('OR GATE perceptron')\n",
        "for i in range(len(input)):\n",
        "    # prediction = getOutput(weights_OR, input[i])\n",
        "    prediction = signum(np.dot(weights_OR, input[i]))\n",
        "    print(\"X1 = \" + str(input[i][1]) + \" X2 = \" + str(input[i][2]) + \" Predicted Output = \" + str(prediction))"
      ]
    },
    {
      "cell_type": "markdown",
      "metadata": {
        "id": "dPotx-m-N4QT"
      },
      "source": [
        "We have the weights associated with OR and AND gate, which will further be used for predicting outputs of XOR gate \\\\\n",
        "**A XOR B = (A OR B) AND (NOT (A AND B))** \\\\\n",
        "Let P = A OR B  \\\\\n",
        "Let Q = NOT(A AND B) \\\\\n",
        "**A XOR B = P AND Q**"
      ]
    },
    {
      "cell_type": "code",
      "execution_count": null,
      "metadata": {
        "colab": {
          "base_uri": "https://localhost:8080/"
        },
        "id": "tFZSaAH4Ngyw",
        "outputId": "85795824-217f-4b74-928d-23707cbc0807"
      },
      "outputs": [
        {
          "name": "stdout",
          "output_type": "stream",
          "text": [
            "XOR GATE perceptron\n",
            "X1 = -1 X2 = -1 Predicted Output = -1\n",
            "X1 = -1 X2 = 1 Predicted Output = 1\n",
            "X1 = 1 X2 = -1 Predicted Output = 1\n",
            "X1 = 1 X2 = 1 Predicted Output = -1\n"
          ]
        }
      ],
      "source": [
        "print('XOR GATE perceptron')\n",
        "for i in range(len(input)):\n",
        "    p = getOutput(weights_OR, input[i])\n",
        "    q_complement = getOutput(weights_AND, input[i])\n",
        "    q = 0\n",
        "    if q_complement == 1:\n",
        "      q = -1\n",
        "    else:\n",
        "      q = 1\n",
        "    prediction = getOutput(weights_AND, np.array([1, p, q]))\n",
        "    print(\"X1 = \" + str(input[i][1]) + \" X2 = \" + str(input[i][2]) + \" Predicted Output = \" + str(prediction))"
      ]
    }
  ],
  "metadata": {
    "colab": {
      "provenance": []
    },
    "kernelspec": {
      "display_name": "Python 3",
      "name": "python3"
    },
    "language_info": {
      "name": "python"
    }
  },
  "nbformat": 4,
  "nbformat_minor": 0
}
