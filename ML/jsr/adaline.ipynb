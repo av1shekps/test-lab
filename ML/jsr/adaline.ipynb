{
  "cells": [
    {
      "cell_type": "markdown",
      "metadata": {
        "id": "U_ciuGUiIcsK"
      },
      "source": [
        "**Implement adaline learning algorithm and attempt to solve two input i) AND gate ii) OR gate iii) EXNOR gate problems**"
      ]
    },
    {
      "cell_type": "code",
      "execution_count": null,
      "metadata": {
        "id": "5YcPaXNqIPhS"
      },
      "outputs": [],
      "source": [
        "import numpy as np\n",
        "import pandas as pd"
      ]
    },
    {
      "cell_type": "markdown",
      "metadata": {
        "id": "pNVX04iuIr86"
      },
      "source": [
        "Output = W0X0 + W1X1 + W2X2 = W*X_transpose \\\\\n",
        "Wi = weights associated with gate \\\\\n",
        "Xi = inputs acting as feature with X0 = 1"
      ]
    },
    {
      "cell_type": "code",
      "execution_count": null,
      "metadata": {
        "id": "6mWqbdshIpJo"
      },
      "outputs": [],
      "source": [
        "def getOutput(weights, features):\n",
        "  output = np.dot(weights,features.transpose())\n",
        "  return output"
      ]
    },
    {
      "cell_type": "code",
      "execution_count": null,
      "metadata": {
        "id": "Jfb4MvYSJ0s2"
      },
      "outputs": [],
      "source": [
        "def rounded(output):\n",
        "  if output >= 0.5:\n",
        "    return 1\n",
        "  else:\n",
        "    return 0"
      ]
    },
    {
      "cell_type": "markdown",
      "metadata": {
        "id": "UZXhrWs2JPX3"
      },
      "source": [
        "Perceptron Training Algorithm:"
      ]
    },
    {
      "cell_type": "code",
      "execution_count": null,
      "metadata": {
        "id": "c1XzrBHDJQOM"
      },
      "outputs": [],
      "source": [
        "def trainPerceptron(epochs, features, target, alpha):\n",
        "  weights = np.random.rand(features.shape[1])\n",
        "  for epoch in range(epochs):\n",
        "    for i in range(len(features)):\n",
        "      output = np.dot(weights,features[i].T)\n",
        "      weights += alpha *(target[i]-output)*features[i]\n",
        "  \n",
        "  return weights"
      ]
    },
    {
      "cell_type": "code",
      "execution_count": null,
      "metadata": {
        "colab": {
          "base_uri": "https://localhost:8080/"
        },
        "id": "CfLMPwdtJad7",
        "outputId": "8035a2e9-5606-4354-9927-c7adcde5979b"
      },
      "outputs": [
        {
          "name": "stdout",
          "output_type": "stream",
          "text": [
            "Weights for AND GATE perceptron: \n",
            "[-0.01347484  0.28591284  0.40989066]\n",
            "Weights for OR GATE perceptron: \n",
            "[0.40584319 0.29449345 0.43475502]\n"
          ]
        }
      ],
      "source": [
        "input = np.array([[1,0,0],[1,0,1],[1,1,0],[1,1,1]])\n",
        "targetAND = [0,0,0,1] \n",
        "targetOR = [0,1,1,1] \n",
        "\n",
        "#training perceptrons\n",
        "weights_AND = trainPerceptron(10, input, targetAND, 0.1)\n",
        "weights_OR = trainPerceptron(10, input, targetOR, 0.1)\n",
        "\n",
        "print(\"Weights for AND GATE perceptron: \")\n",
        "print(weights_AND)\n",
        "print(\"Weights for OR GATE perceptron: \")\n",
        "print(weights_OR)"
      ]
    },
    {
      "cell_type": "code",
      "execution_count": null,
      "metadata": {
        "colab": {
          "base_uri": "https://localhost:8080/"
        },
        "id": "q-AKLcA9JkzO",
        "outputId": "79602a63-5ab7-498d-f87e-e6d80f21ea77"
      },
      "outputs": [
        {
          "name": "stdout",
          "output_type": "stream",
          "text": [
            "AND GATE perceptron\n",
            "X1 = 0 X2 = 0 Predicted Output = 0\n",
            "X1 = 0 X2 = 1 Predicted Output = 0\n",
            "X1 = 1 X2 = 0 Predicted Output = 0\n",
            "X1 = 1 X2 = 1 Predicted Output = 1\n"
          ]
        }
      ],
      "source": [
        "print('AND GATE perceptron')\n",
        "for i in range(len(input)):\n",
        "    prediction = getOutput(weights_AND, input[i])\n",
        "    print(\"X1 = \" + str(input[i][1]) + \" X2 = \" + str(input[i][2]) + \" Predicted Output = \" + str(rounded(prediction)))"
      ]
    },
    {
      "cell_type": "code",
      "execution_count": null,
      "metadata": {
        "colab": {
          "base_uri": "https://localhost:8080/"
        },
        "id": "EpKo5lHVJ_ut",
        "outputId": "32ba430f-e823-47dc-f943-b1547b3bc9cf"
      },
      "outputs": [
        {
          "name": "stdout",
          "output_type": "stream",
          "text": [
            "OR GATE perceptron\n",
            "X1 = 0 X2 = 0 Predicted Output = 0\n",
            "X1 = 0 X2 = 1 Predicted Output = 1\n",
            "X1 = 1 X2 = 0 Predicted Output = 1\n",
            "X1 = 1 X2 = 1 Predicted Output = 1\n"
          ]
        }
      ],
      "source": [
        "print('OR GATE perceptron')\n",
        "for i in range(len(input)):\n",
        "    prediction = getOutput(weights_OR, input[i])\n",
        "    print(\"X1 = \" + str(input[i][1]) + \" X2 = \" + str(input[i][2]) + \" Predicted Output = \" + str(rounded(prediction)))"
      ]
    },
    {
      "cell_type": "markdown",
      "metadata": {
        "id": "ans8lTFOKK3U"
      },
      "source": [
        "We have the weights associated with OR and AND gate, which will further be used for predicting outputs of XNOR gate \\\\\n",
        "**A XNOR B = NOT((A OR B) AND (NOT (A AND B)))** \\\\\n",
        "Let P = A OR B  \\\\\n",
        "Let Q = NOT(A AND B) \\\\\n",
        "**A XNOR B = NOT(P AND Q)**"
      ]
    },
    {
      "cell_type": "code",
      "execution_count": null,
      "metadata": {
        "colab": {
          "base_uri": "https://localhost:8080/"
        },
        "id": "utMIm0qfKIAr",
        "outputId": "7bb1d708-8493-4dbf-ec60-a0d50da923f2"
      },
      "outputs": [
        {
          "name": "stdout",
          "output_type": "stream",
          "text": [
            "XNOR GATE perceptron\n",
            "X1 = 0 X2 = 0 Predicted Output = 1\n",
            "X1 = 0 X2 = 1 Predicted Output = 0\n",
            "X1 = 1 X2 = 0 Predicted Output = 0\n",
            "X1 = 1 X2 = 1 Predicted Output = 1\n"
          ]
        }
      ],
      "source": [
        "print('XNOR GATE perceptron')\n",
        "for i in range(len(input)):\n",
        "    p = rounded(getOutput(weights_OR, input[i]))\n",
        "    q_complement = rounded(getOutput(weights_AND, input[i]))\n",
        "    q = 0\n",
        "    if q_complement == 0:\n",
        "      q = 1\n",
        "    else:\n",
        "      q = 0\n",
        "    prediction = rounded(getOutput(weights_AND, np.array([1, p, q])))\n",
        "    if prediction == 1:\n",
        "      prediction = 0\n",
        "    else:\n",
        "      prediction = 1\n",
        "    print(\"X1 = \" + str(input[i][1]) + \" X2 = \" + str(input[i][2]) + \" Predicted Output = \" + str(prediction))"
      ]
    }
  ],
  "metadata": {
    "colab": {
      "provenance": []
    },
    "kernelspec": {
      "display_name": "Python 3.10.4 64-bit",
      "language": "python",
      "name": "python3"
    },
    "language_info": {
      "name": "python",
      "version": "3.10.4"
    },
    "vscode": {
      "interpreter": {
        "hash": "e6f69bfd8770c6ef5341f3d7e9e093b8953f3ac54a69823aabf263e15f081764"
      }
    }
  },
  "nbformat": 4,
  "nbformat_minor": 0
}
