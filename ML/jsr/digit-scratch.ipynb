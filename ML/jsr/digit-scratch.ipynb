{
  "cells": [
    {
      "cell_type": "markdown",
      "metadata": {
        "id": "1XDj2yEAI01p"
      },
      "source": [
        "**Q) Design and implement a feed forward neural network using backpropagation algorithm to to solve hand written character recognition problem for A to Z and 0 to 9 letters and digits respectively.**"
      ]
    },
    {
      "cell_type": "markdown",
      "metadata": {
        "id": "8bXhx_9XI4B5"
      },
      "source": [
        "**Digit Recognition**"
      ]
    },
    {
      "cell_type": "code",
      "execution_count": null,
      "metadata": {
        "id": "ZEYn8bMtjWfR"
      },
      "outputs": [],
      "source": [
        "import numpy as np\n",
        "import time\n",
        "from sklearn.datasets import fetch_openml\n",
        "from keras.utils.np_utils import to_categorical\n",
        "from sklearn.model_selection import train_test_split\n",
        "from sklearn.metrics import mean_squared_error\n",
        "from sklearn.preprocessing import OneHotEncoder"
      ]
    },
    {
      "cell_type": "code",
      "execution_count": null,
      "metadata": {
        "id": "rTfbvfVbqs_p"
      },
      "outputs": [],
      "source": [
        "mnist = fetch_openml('mnist_784')"
      ]
    },
    {
      "cell_type": "code",
      "execution_count": null,
      "metadata": {
        "id": "wb4aWhnzrPYB"
      },
      "outputs": [],
      "source": [
        "x,y = mnist['data'],mnist['target']\n",
        "y = to_categorical(y)\n",
        "x_train, x_test, y_train, y_test = train_test_split(x, y, test_size=0.16, random_state=37)\n",
        "\n",
        "xtrain, xtest = np.array(x_train).astype('float64') , np.array(x_test).astype('float64')\n",
        "ytrain, ytest = np.array(y_train).astype('float64') , np.array(y_test).astype('float64')\n",
        "\n",
        "\n",
        "xtrain , xtest = xtrain/255 , xtest/255"
      ]
    },
    {
      "cell_type": "code",
      "execution_count": null,
      "metadata": {
        "colab": {
          "base_uri": "https://localhost:8080/"
        },
        "id": "GSYEPORAtRxf",
        "outputId": "7cfe1918-74e8-4ff8-85c3-688e1276c2bf"
      },
      "outputs": [
        {
          "name": "stdout",
          "output_type": "stream",
          "text": [
            "<class 'numpy.ndarray'>\n",
            "<class 'numpy.ndarray'>\n"
          ]
        }
      ],
      "source": [
        "x = x.to_numpy()\n",
        "print(type(x))\n",
        "print(type(y))"
      ]
    },
    {
      "cell_type": "code",
      "execution_count": null,
      "metadata": {
        "colab": {
          "base_uri": "https://localhost:8080/"
        },
        "id": "G1W3RymakEdg",
        "outputId": "e2a3eade-7e8c-43c1-ce4a-efb6ab019289"
      },
      "outputs": [
        {
          "name": "stdout",
          "output_type": "stream",
          "text": [
            "X_train size:  (59500, 784)\n",
            "y_train size:  (59500, 10)\n",
            "X_test size:  (10500, 784)\n",
            "y_test size:  (10500, 10)\n"
          ]
        }
      ],
      "source": [
        "x_train, x_test, y_train, y_test = train_test_split(x, y, test_size=0.15, random_state=37)\n",
        "print(\"X_train size: \", x_train.shape)\n",
        "print(\"y_train size: \", y_train.shape)\n",
        "print(\"X_test size: \", x_test.shape)\n",
        "print(\"y_test size: \", y_test.shape)"
      ]
    },
    {
      "cell_type": "code",
      "execution_count": null,
      "metadata": {
        "id": "0RgActlJk_2N"
      },
      "outputs": [],
      "source": [
        "#Activation functions\n",
        "def sigmoid(x, derivative=False):\n",
        "  if derivative:\n",
        "    return (np.exp(-x))/((np.exp(-x)+1)**2)\n",
        "  return 1/(1 + np.exp(-x))\n",
        "\n",
        "def softmax(x, derivative=False):\n",
        "  exps = np.exp(x - x.max())\n",
        "  if derivative:\n",
        "    return exps / np.sum(exps, axis=0) * (1 - exps / np.sum(exps, axis=0))\n",
        "  return exps / np.sum(exps, axis=0)"
      ]
    },
    {
      "cell_type": "code",
      "execution_count": null,
      "metadata": {
        "id": "AAnLGI6IkQ-M"
      },
      "outputs": [],
      "source": [
        "def init_parameters(layer_sizes): #function for initialising parameters with random values\n",
        "  parameters = {}\n",
        "  for i in range(1, len(layer_sizes)):\n",
        "    parameters['W' + str(i)] = np.random.randn(layer_sizes[i], layer_sizes[i-1])*0.01\n",
        "  return parameters"
      ]
    },
    {
      "cell_type": "code",
      "execution_count": null,
      "metadata": {
        "id": "bH7_sb6gl12H"
      },
      "outputs": [],
      "source": [
        "def forward_propagation(X, parameters): #function for forward propagation\n",
        "  layers = len(parameters)\n",
        "  values = {}\n",
        "  values['A0'] = X\n",
        "  for i in range(1, layers+1):\n",
        "    if i==1:\n",
        "      values['Z' + str(i)] = np.dot(parameters['W' + str(i)], X)\n",
        "      values['A' + str(i)] = sigmoid(values['Z' + str(i)])\n",
        "    else:\n",
        "      values['Z' + str(i)] = np.dot(parameters['W' + str(i)], values['A' + str(i-1)])\n",
        "      if i==layers:\n",
        "        values['A' + str(i)] = softmax(values['Z' + str(i)])\n",
        "      else:\n",
        "        values['A' + str(i)] = sigmoid(values['Z' + str(i)])\n",
        "  return values\n"
      ]
    },
    {
      "cell_type": "code",
      "execution_count": null,
      "metadata": {
        "id": "YADbkrD1mVW_"
      },
      "outputs": [],
      "source": [
        "def backward_propagation(parameters, values, X, y): #function for backward propagation\n",
        "  layers = len(parameters)\n",
        "  m = len(y)\n",
        "  grads = {}\n",
        "  error = 0\n",
        "  dz = 0\n",
        "  for i in range(layers,0,-1):\n",
        "    if i == layers:\n",
        "        dz = (values['A' + str(i)] - y)\n",
        "        error = (1/values['A' + str(i)].shape[1])*np.dot(dz,values['A' + str(i-1)].T)\n",
        "    else:\n",
        "        dz = np.dot(parameters['W' + str(i+1)].T, dz) * sigmoid(values['Z' + str(i)], derivative=True)\n",
        "        error = (1/values['A' + str(i)].shape[1])*np.dot(dz,values['A' + str(i-1)].T)\n",
        "    grads['W' + str(i)] = error\n",
        "    \n",
        "  return grads"
      ]
    },
    {
      "cell_type": "code",
      "execution_count": null,
      "metadata": {
        "id": "dvPMFiy2Y90j"
      },
      "outputs": [],
      "source": [
        "def update_parameters(parameters, grads, learning_rate): #function for updating the parameters after back propagation\n",
        "  layers = len(parameters)\n",
        "  updated_parameters = {}\n",
        "  for i in range(1,layers+1):\n",
        "    updated_parameters['W' + str(i)] = parameters['W' + str(i)] - learning_rate * grads['W' + str(i)]\n",
        "  return updated_parameters"
      ]
    },
    {
      "cell_type": "code",
      "execution_count": null,
      "metadata": {
        "id": "R30QQ-gzIoBu"
      },
      "outputs": [],
      "source": [
        "def compute_cost(a2, y):\n",
        "  m = y.shape[1]\n",
        "  cost = -(1/m)*np.sum(y*np.log(a2))\n",
        "  return cost"
      ]
    },
    {
      "cell_type": "code",
      "execution_count": null,
      "metadata": {
        "id": "9oPYnAbyY-si"
      },
      "outputs": [],
      "source": [
        "def train_model(X, y, layer_sizes, epochs, learning_rate): #trains the model\n",
        "  parameters = init_parameters(layer_sizes)\n",
        "  for i in range(epochs):\n",
        "    values = forward_propagation(X.T, parameters)\n",
        "    cost = compute_cost(values['A' + str(len(parameters))], y.T)\n",
        "    grads = backward_propagation(parameters, values,X.T, y.T)\n",
        "    parameters = update_parameters(parameters, grads, learning_rate)\n",
        "  return parameters"
      ]
    },
    {
      "cell_type": "code",
      "execution_count": null,
      "metadata": {
        "id": "EJvhVtOPZDHe"
      },
      "outputs": [],
      "source": [
        "def predict(X, params): #predicts the values\n",
        "  values = forward_propagation(X.T, params)\n",
        "  predictions = values['A' + str(len(values)//2)].T\n",
        "  return predictions"
      ]
    },
    {
      "cell_type": "code",
      "execution_count": null,
      "metadata": {
        "id": "qgb8RfqgZG2i"
      },
      "outputs": [],
      "source": [
        "layer_sizes = [784, 64, 10]  #input layer has 784 neurons, one hidden layer with 64 neurons and output layer with 10 neurons                                      \n",
        "epochs = 100                                                             \n",
        "learning_rate = 0.5                                                            \n",
        "parameters = train_model(x_train, y_train, layer_sizes, epochs, learning_rate)      \n",
        "pred_y = predict(x_test, parameters)\n"
      ]
    },
    {
      "cell_type": "code",
      "execution_count": null,
      "metadata": {
        "id": "i9nDcbnxIoBv",
        "outputId": "3d74882d-8de8-45e5-8639-dfaa1bd0ef0f"
      },
      "outputs": [
        {
          "name": "stdout",
          "output_type": "stream",
          "text": [
            "7517\n",
            "0.7159047619047619\n"
          ]
        }
      ],
      "source": [
        "from sklearn.metrics import accuracy_score\n",
        "pred_y = np.argmax(pred_y, axis = 1)\n",
        "y_test = np.argmax(y_test, axis = 1)\n",
        "print(accuracy_score(y_test, pred_y, normalize = False)) #prints no. of correctly classified test data\n",
        "print(accuracy_score(y_test, pred_y)) #prints percentage of correctly classified test data"
      ]
    }
  ],
  "metadata": {
    "colab": {
      "provenance": []
    },
    "kernelspec": {
      "display_name": "Python 3 (ipykernel)",
      "language": "python",
      "name": "python3"
    },
    "language_info": {
      "codemirror_mode": {
        "name": "ipython",
        "version": 3
      },
      "file_extension": ".py",
      "mimetype": "text/x-python",
      "name": "python",
      "nbconvert_exporter": "python",
      "pygments_lexer": "ipython3",
      "version": "3.10.8"
    }
  },
  "nbformat": 4,
  "nbformat_minor": 0
}
